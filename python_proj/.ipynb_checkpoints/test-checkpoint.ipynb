{
 "cells": [
  {
   "cell_type": "code",
   "execution_count": 1,
   "metadata": {
    "tags": []
   },
   "outputs": [
    {
     "data": {
      "text/plain": [
       "['/workspaces/devcontainer-python-pgsql-rust/python_proj',\n",
       " '/home/vscode/miniconda/lib/python310.zip',\n",
       " '/home/vscode/miniconda/lib/python3.10',\n",
       " '/home/vscode/miniconda/lib/python3.10/lib-dynload',\n",
       " '',\n",
       " '/home/vscode/miniconda/lib/python3.10/site-packages']"
      ]
     },
     "execution_count": 1,
     "metadata": {},
     "output_type": "execute_result"
    }
   ],
   "source": [
    "import sys\n",
    "sys.path"
   ]
  },
  {
   "cell_type": "code",
   "execution_count": 2,
   "metadata": {
    "tags": []
   },
   "outputs": [
    {
     "name": "stdout",
     "output_type": "stream",
     "text": [
      "Downloading WhiteboxTools pre-compiled binary for first time use ...\n",
      "Decompressing WhiteboxTools_linux_amd64.zip ...\n",
      "WhiteboxTools package directory: /home/vscode/miniconda/lib/python3.10/site-packages/whitebox\n",
      "Downloading testdata ...\n",
      "WhiteboxTools v2.2.0 by Dr. John B. Lindsay (c) 2017-2023\n",
      "\n",
      "WhiteboxTools is an advanced geospatial data analysis platform developed at\n",
      "the University of Guelph's Geomorphometry and Hydrogeomatics Research \n",
      "Group (GHRG). See www.whiteboxgeo.com for more details.\n",
      "\n"
     ]
    }
   ],
   "source": [
    "import whitebox \n",
    "wbt = whitebox.WhiteboxTools()\n",
    "print(wbt.version())"
   ]
  },
  {
   "cell_type": "code",
   "execution_count": null,
   "metadata": {},
   "outputs": [],
   "source": []
  },
  {
   "cell_type": "code",
   "execution_count": null,
   "metadata": {},
   "outputs": [],
   "source": []
  }
 ],
 "metadata": {
  "kernelspec": {
   "display_name": "Python 3 (ipykernel)",
   "language": "python",
   "name": "python3"
  },
  "language_info": {
   "codemirror_mode": {
    "name": "ipython",
    "version": 3
   },
   "file_extension": ".py",
   "mimetype": "text/x-python",
   "name": "python",
   "nbconvert_exporter": "python",
   "pygments_lexer": "ipython3",
   "version": "3.10.9"
  },
  "vscode": {
   "interpreter": {
    "hash": "949777d72b0d2535278d3dc13498b2535136f6dfe0678499012e853ee9abcab1"
   }
  }
 },
 "nbformat": 4,
 "nbformat_minor": 4
}
