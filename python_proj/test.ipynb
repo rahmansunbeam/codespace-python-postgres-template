{
 "cells": [
  {
   "cell_type": "code",
   "execution_count": 1,
   "metadata": {},
   "outputs": [
    {
     "data": {
      "text/plain": [
       "['/home/jovyan/work/docker/python-postgres-template/python_proj',\n",
       " '/opt/conda/lib/python310.zip',\n",
       " '/opt/conda/lib/python3.10',\n",
       " '/opt/conda/lib/python3.10/lib-dynload',\n",
       " '',\n",
       " '/opt/conda/lib/python3.10/site-packages']"
      ]
     },
     "execution_count": 1,
     "metadata": {},
     "output_type": "execute_result"
    }
   ],
   "source": [
    "import sys\n",
    "sys.path"
   ]
  },
  {
   "cell_type": "code",
   "execution_count": 7,
   "metadata": {},
   "outputs": [
    {
     "name": "stdout",
     "output_type": "stream",
     "text": [
      "Downloading WhiteboxTools pre-compiled binary for first time use ...\n",
      "Unexpected error: <class 'PermissionError'>\n"
     ]
    },
    {
     "ename": "PermissionError",
     "evalue": "[Errno 13] Permission denied: '/usr/local/lib/python3.10/dist-packages/whitebox/WhiteboxTools_linux_amd64.zip'",
     "output_type": "error",
     "traceback": [
      "\u001b[0;31m---------------------------------------------------------------------------\u001b[0m",
      "\u001b[0;31mPermissionError\u001b[0m                           Traceback (most recent call last)",
      "Cell \u001b[0;32mIn[7], line 2\u001b[0m\n\u001b[1;32m      1\u001b[0m \u001b[39mimport\u001b[39;00m \u001b[39mwhitebox\u001b[39;00m \n\u001b[0;32m----> 2\u001b[0m wbt \u001b[39m=\u001b[39m whitebox\u001b[39m.\u001b[39;49mWhiteboxTools()\n\u001b[1;32m      3\u001b[0m \u001b[39mprint\u001b[39m(wbt\u001b[39m.\u001b[39mversion())\n",
      "File \u001b[0;32m/usr/local/lib/python3.10/dist-packages/whitebox/whitebox_tools.py:257\u001b[0m, in \u001b[0;36mWhiteboxTools.__init__\u001b[0;34m(self)\u001b[0m\n\u001b[1;32m    255\u001b[0m \u001b[39mself\u001b[39m\u001b[39m.\u001b[39m__compress_rasters \u001b[39m=\u001b[39m \u001b[39mFalse\u001b[39;00m\n\u001b[1;32m    256\u001b[0m \u001b[39mself\u001b[39m\u001b[39m.\u001b[39m__max_procs \u001b[39m=\u001b[39m \u001b[39m-\u001b[39m\u001b[39m1\u001b[39m\n\u001b[0;32m--> 257\u001b[0m download_wbt()\n\u001b[1;32m    259\u001b[0m \u001b[39mif\u001b[39;00m os\u001b[39m.\u001b[39mpath\u001b[39m.\u001b[39misfile(\u001b[39m'\u001b[39m\u001b[39msettings.json\u001b[39m\u001b[39m'\u001b[39m):\n\u001b[1;32m    260\u001b[0m     \u001b[39m# read the settings.json file if it exists\u001b[39;00m\n\u001b[1;32m    261\u001b[0m     \u001b[39mwith\u001b[39;00m \u001b[39mopen\u001b[39m(\u001b[39m'\u001b[39m\u001b[39msettings.json\u001b[39m\u001b[39m'\u001b[39m, \u001b[39m'\u001b[39m\u001b[39mr\u001b[39m\u001b[39m'\u001b[39m) \u001b[39mas\u001b[39;00m settings_file:\n",
      "File \u001b[0;32m/usr/local/lib/python3.10/dist-packages/whitebox/whitebox_tools.py:107\u001b[0m, in \u001b[0;36mdownload_wbt\u001b[0;34m(verbose)\u001b[0m\n\u001b[1;32m    104\u001b[0m     url \u001b[39m=\u001b[39m backup_links[platform\u001b[39m.\u001b[39msystem()]\n\u001b[1;32m    105\u001b[0m     request \u001b[39m=\u001b[39m urllib\u001b[39m.\u001b[39mrequest\u001b[39m.\u001b[39murlopen(url, timeout\u001b[39m=\u001b[39m\u001b[39m500\u001b[39m)\n\u001b[0;32m--> 107\u001b[0m \u001b[39mwith\u001b[39;00m \u001b[39mopen\u001b[39;49m(zip_name, \u001b[39m\"\u001b[39;49m\u001b[39mwb\u001b[39;49m\u001b[39m\"\u001b[39;49m) \u001b[39mas\u001b[39;00m f:\n\u001b[1;32m    108\u001b[0m     f\u001b[39m.\u001b[39mwrite(request\u001b[39m.\u001b[39mread())\n\u001b[1;32m    110\u001b[0m \u001b[39mif\u001b[39;00m verbose:\n",
      "\u001b[0;31mPermissionError\u001b[0m: [Errno 13] Permission denied: '/usr/local/lib/python3.10/dist-packages/whitebox/WhiteboxTools_linux_amd64.zip'"
     ]
    }
   ],
   "source": [
    "import whitebox \n",
    "wbt = whitebox.WhiteboxTools()\n",
    "print(wbt.version())"
   ]
  },
  {
   "cell_type": "code",
   "execution_count": null,
   "metadata": {},
   "outputs": [],
   "source": []
  }
 ],
 "metadata": {
  "kernelspec": {
   "display_name": "Python 3 (ipykernel)",
   "language": "python",
   "name": "python3"
  },
  "language_info": {
   "codemirror_mode": {
    "name": "ipython",
    "version": 3
   },
   "file_extension": ".py",
   "mimetype": "text/x-python",
   "name": "python",
   "nbconvert_exporter": "python",
   "pygments_lexer": "ipython3",
   "version": "3.10.6"
  },
  "vscode": {
   "interpreter": {
    "hash": "949777d72b0d2535278d3dc13498b2535136f6dfe0678499012e853ee9abcab1"
   }
  }
 },
 "nbformat": 4,
 "nbformat_minor": 4
}
